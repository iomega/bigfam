{
 "cells": [
  {
   "cell_type": "code",
   "execution_count": 1,
   "metadata": {},
   "outputs": [],
   "source": [
    "import os\n",
    "import json\n",
    "from gensim.models import LdaModel\n",
    "from gensim.corpora import Dictionary"
   ]
  },
  {
   "cell_type": "code",
   "execution_count": 2,
   "metadata": {},
   "outputs": [],
   "source": [
    "corpus = []\n",
    "docid2fn = []\n",
    "word2id = {}"
   ]
  },
  {
   "cell_type": "markdown",
   "metadata": {},
   "source": [
    "# Create corpus\n",
    "\n",
    "Use each file as a document and each subdomain as a word for LDA."
   ]
  },
  {
   "cell_type": "code",
   "execution_count": 3,
   "metadata": {},
   "outputs": [],
   "source": [
    "for fn in sorted(os.listdir('json/')):\n",
    "    with open('json/' + fn) as f:\n",
    "        docid2fn.append(fn)\n",
    "        doc = json.load(f)\n",
    "        subdomain_freq = {}\n",
    "        for gene in doc['clusters'][0]['genes']:\n",
    "            for pfam in gene['pfams']:\n",
    "                if 'subdomains' in pfam and pfam['subdomains']:\n",
    "                    subdomain = pfam['subdomains'][0]['name']\n",
    "                    if subdomain not in word2id:\n",
    "                        word2id[subdomain] =  len(word2id)\n",
    "                    subdomainid = word2id[subdomain]\n",
    "                    if subdomainid in subdomain_freq:\n",
    "                        subdomain_freq[subdomainid] += 1\n",
    "                    else:\n",
    "                        subdomain_freq[subdomainid] = 1\n",
    "        corpus.append([(k, v) for k,v in subdomain_freq.items()])"
   ]
  },
  {
   "cell_type": "code",
   "execution_count": 4,
   "metadata": {},
   "outputs": [],
   "source": [
    "dictionary = Dictionary.from_corpus(corpus, {v:k for k,v in word2id.items()})"
   ]
  },
  {
   "cell_type": "markdown",
   "metadata": {},
   "source": [
    "# Save corpus to disk"
   ]
  },
  {
   "cell_type": "code",
   "execution_count": null,
   "metadata": {
    "scrolled": false
   },
   "outputs": [],
   "source": [
    "dictionary.save('dict.gensim')\n",
    "with open('corpus.json', 'w') as f:\n",
    "    json.dump(corpus, f)\n",
    "with open('docid2fn.json', 'w') as f:\n",
    "    json.dump(docid2fn, f)"
   ]
  },
  {
   "cell_type": "markdown",
   "metadata": {},
   "source": [
    "# Load corpus from disk"
   ]
  },
  {
   "cell_type": "code",
   "execution_count": 18,
   "metadata": {},
   "outputs": [],
   "source": [
    "dictionary = Dictionary.load('dict.gensim')\n",
    "with open('corpus.json') as f:\n",
    "    corpus = json.load(f)\n",
    "with open('docid2fn.json') as f:\n",
    "    docid2fn = json.load(f)"
   ]
  },
  {
   "cell_type": "markdown",
   "metadata": {},
   "source": [
    "# Perform LDA"
   ]
  },
  {
   "cell_type": "code",
   "execution_count": 28,
   "metadata": {},
   "outputs": [],
   "source": [
    "model = LdaModel(corpus=corpus, num_topics=50, passes=100, id2word=dictionary)"
   ]
  },
  {
   "cell_type": "code",
   "execution_count": 29,
   "metadata": {},
   "outputs": [
    {
     "data": {
      "text/plain": [
       "[(23,\n",
       "  '0.096*\"PP-binding_c4\" + 0.093*\"p450_c5\" + 0.092*\"Condensation_c6\" + 0.065*\"AMP-binding_c3\" + 0.063*\"AMP-binding_C_c60\" + 0.057*\"Condensation_c17\" + 0.057*\"AMP-binding_c7\" + 0.033*\"Condensation_c19\" + 0.022*\"AMP-binding_c12\" + 0.020*\"PP-binding_c57\"'),\n",
       " (29,\n",
       "  '0.106*\"Epimerase_c17\" + 0.087*\"Epimerase_c6\" + 0.078*\"Glycos_transf_2_c19\" + 0.055*\"Epimerase_c16\" + 0.035*\"Condensation_c41\" + 0.035*\"polyprenyl_synt_c6\" + 0.035*\"Glycos_transf_2_c14\" + 0.028*\"Terpene_synth_c6\" + 0.021*\"Methyltransf_25_c11\" + 0.021*\"Acetyltransf_1_c40\"'),\n",
       " (8,\n",
       "  '0.101*\"Acyl-CoA_dh_1_c36\" + 0.076*\"AMP-binding_c43\" + 0.074*\"PP-binding_c15\" + 0.059*\"PP-binding_c9\" + 0.056*\"ACP_syn_III_c33\" + 0.046*\"ACP_syn_III_C_c38\" + 0.039*\"Methyltransf_25_c27\" + 0.023*\"Aminotran_1_2_c19\" + 0.022*\"ketoacyl-synt_c27\" + 0.019*\"AMP-binding_C_c61\"'),\n",
       " (18,\n",
       "  '0.141*\"Radical_SAM_c26\" + 0.068*\"B12-binding_c13\" + 0.064*\"B12-binding_c45\" + 0.044*\"Glycos_transf_1_c2\" + 0.041*\"adh_short_c10\" + 0.034*\"Radical_SAM_c14\" + 0.027*\"Peptidase_C39_c17\" + 0.027*\"adh_short_c26\" + 0.025*\"Abhydrolase_1_c25\" + 0.023*\"p450_c5\"'),\n",
       " (40,\n",
       "  '0.133*\"AMP-binding_c3\" + 0.116*\"Condensation_c23\" + 0.077*\"AMP-binding_C_c23\" + 0.073*\"PP-binding_c6\" + 0.055*\"AMP-binding_C_c60\" + 0.052*\"PP-binding_c4\" + 0.051*\"Condensation_c6\" + 0.049*\"Condensation_c17\" + 0.037*\"PP-binding_c14\" + 0.032*\"AMP-binding_C_c66\"'),\n",
       " (25,\n",
       "  '0.161*\"PP-binding_c13\" + 0.148*\"Ketoacyl-synt_C_c2\" + 0.140*\"KR_c5\" + 0.130*\"Acyl_transf_1_c11\" + 0.129*\"ketoacyl-synt_c8\" + 0.093*\"PS-DH_c3\" + 0.022*\"Acyl_transf_1_c4\" + 0.017*\"p450_c5\" + 0.011*\"Thioesterase_c29\" + 0.010*\"ketoacyl-synt_c28\"'),\n",
       " (19,\n",
       "  '0.097*\"ketoacyl-synt_c21\" + 0.093*\"PP-binding_c34\" + 0.081*\"Ketoacyl-synt_C_c4\" + 0.081*\"Acyl_transf_1_c25\" + 0.077*\"Methyltransf_12_c14\" + 0.061*\"PS-DH_c15\" + 0.048*\"NAD_binding_4_c44\" + 0.047*\"p450_c20\" + 0.024*\"SQS_PSY_c15\" + 0.024*\"IucA_IucC_c3\"'),\n",
       " (1,\n",
       "  '0.067*\"ketoacyl-synt_c11\" + 0.062*\"PS-DH_c2\" + 0.061*\"ADH_zinc_N_c8\" + 0.048*\"p450_c11\" + 0.039*\"PP-binding_c7\" + 0.032*\"Methyltransf_11_c18\" + 0.032*\"p450_c32\" + 0.031*\"FAD_binding_3_c3\" + 0.030*\"ADH_N_c9\" + 0.029*\"Ketoacyl-synt_C_c11\"'),\n",
       " (41,\n",
       "  '0.064*\"ketoacyl-synt_c16\" + 0.043*\"PP-binding_c24\" + 0.037*\"ketoacyl-synt_c12\" + 0.036*\"AMP-binding_c16\" + 0.026*\"FabA_c6\" + 0.022*\"Ketoacyl-synt_C_c35\" + 0.022*\"adh_short_c1\" + 0.022*\"Thioesterase_c15\" + 0.019*\"ADH_zinc_N_c16\" + 0.017*\"PhyH_c9\"'),\n",
       " (15,\n",
       "  '0.192*\"DUF1205_c1\" + 0.085*\"Epimerase_c2\" + 0.049*\"GFO_IDH_MocA_c25\" + 0.042*\"UDPGT_c13\" + 0.039*\"p450_c5\" + 0.038*\"Methyltransf_25_c18\" + 0.036*\"ACP_syn_III_C_c5\" + 0.030*\"DegT_DnrJ_EryC1_c12\" + 0.030*\"FAD_binding_3_c42\" + 0.026*\"DegT_DnrJ_EryC1_c9\"')]"
      ]
     },
     "execution_count": 29,
     "metadata": {},
     "output_type": "execute_result"
    }
   ],
   "source": [
    "model.show_topics()"
   ]
  },
  {
   "cell_type": "code",
   "execution_count": 30,
   "metadata": {},
   "outputs": [
    {
     "data": {
      "text/plain": [
       "[('ketoacyl-synt_c11', 0.067112155),\n",
       " ('PS-DH_c2', 0.061782002),\n",
       " ('ADH_zinc_N_c8', 0.061161797),\n",
       " ('p450_c11', 0.048200663),\n",
       " ('PP-binding_c7', 0.0388568),\n",
       " ('Methyltransf_11_c18', 0.032465268),\n",
       " ('p450_c32', 0.032259762),\n",
       " ('FAD_binding_3_c3', 0.030505331),\n",
       " ('ADH_N_c9', 0.03006145),\n",
       " ('Ketoacyl-synt_C_c11', 0.028658535)]"
      ]
     },
     "execution_count": 30,
     "metadata": {},
     "output_type": "execute_result"
    }
   ],
   "source": [
    "model.show_topic(1, topn=10)"
   ]
  },
  {
   "cell_type": "code",
   "execution_count": 39,
   "metadata": {},
   "outputs": [
    {
     "name": "stdout",
     "output_type": "stream",
     "text": [
      "BGC0000001.json\n"
     ]
    },
    {
     "data": {
      "text/plain": [
       "[('p450_c5', 3),\n",
       " ('ACP_syn_III_c39', 1),\n",
       " ('ACP_syn_III_C_c35', 1),\n",
       " ('PP-binding_c59', 1),\n",
       " ('ketoacyl-synt_c27', 1),\n",
       " ('Ketoacyl-synt_C_c46', 1),\n",
       " ('Acyl_transf_1_c11', 5),\n",
       " ('PP-binding_c13', 7),\n",
       " ('ketoacyl-synt_c8', 6),\n",
       " ('Ketoacyl-synt_C_c2', 6),\n",
       " ('PS-DH_c3', 5),\n",
       " ('KR_c5', 5),\n",
       " ('Acyl_transf_1_c4', 2),\n",
       " ('ADH_N_c9', 2),\n",
       " ('ADH_zinc_N_c32', 1),\n",
       " ('Thioesterase_c22', 1),\n",
       " ('ADH_zinc_N_c14', 1)]"
      ]
     },
     "execution_count": 39,
     "metadata": {},
     "output_type": "execute_result"
    }
   ],
   "source": [
    "# word freq of a document\n",
    "doc_id = 0\n",
    "print(docid2fn[doc_id])\n",
    "[(dictionary[d[0]], d[1]) for d in corpus[doc_id]]"
   ]
  },
  {
   "cell_type": "code",
   "execution_count": 37,
   "metadata": {},
   "outputs": [
    {
     "data": {
      "text/plain": [
       "[('p450_c5', [(25, 0.57925737), (37, 2.4207428)]),\n",
       " ('ACP_syn_III_c39', [(25, 0.022828491), (37, 0.9771715)]),\n",
       " ('ACP_syn_III_C_c35', [(37, 1.0)]),\n",
       " ('PP-binding_c59', [(37, 1.0)]),\n",
       " ('ketoacyl-synt_c27', [(25, 0.04274818), (37, 0.9572517)]),\n",
       " ('Ketoacyl-synt_C_c46', [(25, 0.03726888), (37, 0.9627311)]),\n",
       " ('Acyl_transf_1_c11', [(25, 1.3631301), (37, 3.6368704)]),\n",
       " ('PP-binding_c13', [(25, 1.1050515), (37, 5.8949485)]),\n",
       " ('ketoacyl-synt_c8', [(25, 0.8702633), (37, 5.129737)]),\n",
       " ('Ketoacyl-synt_C_c2', [(25, 0.9500488), (37, 5.049951)]),\n",
       " ('PS-DH_c3', [(25, 0.860298), (37, 4.139702)]),\n",
       " ('KR_c5', [(25, 0.8073037), (37, 4.192696)]),\n",
       " ('Acyl_transf_1_c4', [(25, 0.085517325), (37, 1.9144826)]),\n",
       " ('ADH_N_c9', [(25, 0.032760445), (37, 1.9672395)]),\n",
       " ('ADH_zinc_N_c32', [(25, 0.042736262), (37, 0.95726377)]),\n",
       " ('Thioesterase_c22', [(25, 0.17154077), (37, 0.82845926)]),\n",
       " ('ADH_zinc_N_c14', [(25, 1.0)])]"
      ]
     },
     "execution_count": 37,
     "metadata": {},
     "output_type": "execute_result"
    }
   ],
   "source": [
    "# per word topics of a document\n",
    "_topic_dist, _dum, word_topic = model.get_document_topics(corpus[doc_id], per_word_topics=True)\n",
    "[(dictionary[d[0]], d[1]) for d in word_topic]"
   ]
  },
  {
   "cell_type": "markdown",
   "metadata": {},
   "source": [
    "# Visualize"
   ]
  },
  {
   "cell_type": "code",
   "execution_count": 5,
   "metadata": {},
   "outputs": [],
   "source": [
    "import pyLDAvis\n",
    "import pyLDAvis.gensim"
   ]
  },
  {
   "cell_type": "code",
   "execution_count": 5,
   "metadata": {},
   "outputs": [],
   "source": [
    "pyLDAvis.enable_notebook()"
   ]
  },
  {
   "cell_type": "code",
   "execution_count": null,
   "metadata": {},
   "outputs": [],
   "source": [
    "pyLDAvis.gensim.prepare(model, corpus, dictionary, n_jobs=1)"
   ]
  },
  {
   "cell_type": "code",
   "execution_count": null,
   "metadata": {},
   "outputs": [],
   "source": []
  }
 ],
 "metadata": {
  "kernelspec": {
   "display_name": "Python 3",
   "language": "python",
   "name": "python3"
  },
  "language_info": {
   "codemirror_mode": {
    "name": "ipython",
    "version": 3
   },
   "file_extension": ".py",
   "mimetype": "text/x-python",
   "name": "python",
   "nbconvert_exporter": "python",
   "pygments_lexer": "ipython3",
   "version": "3.6.5"
  }
 },
 "nbformat": 4,
 "nbformat_minor": 2
}
